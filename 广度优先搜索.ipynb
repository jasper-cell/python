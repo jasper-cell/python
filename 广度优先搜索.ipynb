{
 "cells": [
  {
   "cell_type": "markdown",
   "metadata": {},
   "source": [
    "# 广度优先搜索"
   ]
  },
  {
   "cell_type": "code",
   "execution_count": 3,
   "metadata": {},
   "outputs": [],
   "source": [
    "#创建朋友圈关系网\n",
    "#按照图的顺序进行排序\n",
    "graph = {} \n",
    "graph[\"you\"] = [\"alice\", \"bob\", \"claire\"] \n",
    "graph[\"bob\"] = [\"anuj\", \"peggy\"] \n",
    "graph[\"alice\"] = [\"peggy\"] \n",
    "graph[\"claire\"] = [\"thom\", \"jonny\"] \n",
    "graph[\"anuj\"] = [] \n",
    "graph[\"peggy\"] = [] \n",
    "graph[\"thom\"] = [] \n",
    "graph[\"jonny\"] = [] "
   ]
  },
  {
   "cell_type": "code",
   "execution_count": 16,
   "metadata": {},
   "outputs": [],
   "source": [
    "from collections import deque\n",
    "def search(name):\n",
    "    search_queue = deque()                 #建立一个一个用于查找的队列\n",
    "    search_queue += graph[name]            #将要查找的人的朋友加入队列\n",
    "    searched = []                          #创建一个列表用于存储查找过的人\n",
    "    while search_queue:\n",
    "        person = search_queue.popleft()    #弹出队列中得分第一个人\n",
    "        if person not in searched:         #检查\n",
    "            if person_is_seller(person):   \n",
    "                print(person  +  ' is a mango seller')\n",
    "                return True\n",
    "            else:\n",
    "                search_queue += graph[person]   #将被检查的对象的朋友加入到队列的后面\n",
    "                searched.append(person)         #将被检查过的对像加入到列表中\n",
    "    return False"
   ]
  },
  {
   "cell_type": "code",
   "execution_count": 17,
   "metadata": {},
   "outputs": [],
   "source": [
    "def person_is_seller(name):\n",
    "    return name[-1] == 'm'"
   ]
  },
  {
   "cell_type": "code",
   "execution_count": 18,
   "metadata": {},
   "outputs": [
    {
     "name": "stdout",
     "output_type": "stream",
     "text": [
      "thom is a mango seller\n"
     ]
    },
    {
     "data": {
      "text/plain": [
       "True"
      ]
     },
     "execution_count": 18,
     "metadata": {},
     "output_type": "execute_result"
    }
   ],
   "source": [
    "search(\"you\")"
   ]
  }
 ],
 "metadata": {
  "kernelspec": {
   "display_name": "Python 3",
   "language": "python",
   "name": "python3"
  },
  "language_info": {
   "codemirror_mode": {
    "name": "ipython",
    "version": 3
   },
   "file_extension": ".py",
   "mimetype": "text/x-python",
   "name": "python",
   "nbconvert_exporter": "python",
   "pygments_lexer": "ipython3",
   "version": "3.7.0"
  }
 },
 "nbformat": 4,
 "nbformat_minor": 2
}
