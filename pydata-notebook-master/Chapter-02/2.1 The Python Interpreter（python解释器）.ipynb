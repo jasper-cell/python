{
 "cells": [
  {
   "cell_type": "markdown",
   "metadata": {},
   "source": [
    "# 2.1 The Python Interpreter（Python解释器）\n",
    "\n",
    "Python是一门解释性语言。Python的解释器一次只能运行一个命令。标准的Python解释器环境可以用通过输入python进入（在终端输入python后，就能进入解释器）：\n",
    "\n",
    "![](http://oydgk2hgw.bkt.clouddn.com/pydata-book/xua22.png)\n",
    "\n",
    "`>>>`是提示符（prompt），告诉你可以输入指令。如果想要退出，可以输入`exit()`或者按Ctrl-D。\n",
    "\n",
    "运行python程序也很简单，输入一个终端python+.py文件即可。假设我们的hello_world.py文件中有下面的内容\n",
    "\n",
    "    print('Hello world')\n",
    "    \n",
    "可以通过下面的命令来运行（记住，hello_world.py必须在当前文件夹下）：\n",
    "\n",
    "![](http://oydgk2hgw.bkt.clouddn.com/pydata-book/x09fn.png)\n",
    "\n",
    "如果是做科学计算和数据分析的话，我们通常使用IPython，这是一个强化版的python解释器，而Jupyter notebook是一个基于网页的代码记事本，也是从IPython项目中开发出来的。这里会简单介绍一下IPython和Jupyter和使用方法，更多的内容可以看附录B。当我们使用`%run`命令的时候，IPython会按执行代码的方式来执行文件，可以让我们直观地看到交互的结果：\n",
    "\n",
    "![](http://oydgk2hgw.bkt.clouddn.com/pydata-book/gt33b.png)\n",
    "\n",
    "默认的IPython提示符会显示数字，比如图片中的`In [2]:`，而不是普通的`>>>`提示符。"
   ]
  }
 ],
 "metadata": {
  "anaconda-cloud": {},
  "kernelspec": {
   "display_name": "Python [py35]",
   "language": "python",
   "name": "Python [py35]"
  },
  "language_info": {
   "codemirror_mode": {
    "name": "ipython",
    "version": 3
   },
   "file_extension": ".py",
   "mimetype": "text/x-python",
   "name": "python",
   "nbconvert_exporter": "python",
   "pygments_lexer": "ipython3",
   "version": "3.5.2"
  }
 },
 "nbformat": 4,
 "nbformat_minor": 0
}
