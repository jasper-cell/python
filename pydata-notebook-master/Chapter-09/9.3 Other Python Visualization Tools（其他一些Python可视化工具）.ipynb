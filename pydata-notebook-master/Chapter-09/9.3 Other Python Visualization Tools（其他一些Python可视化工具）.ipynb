{
 "cells": [
  {
   "cell_type": "markdown",
   "metadata": {},
   "source": [
    "# 9.3 Other Python Visualization Tools（其他一些Python可视化工具）\n",
    "\n",
    "开源的一个效果是，在python中有很多用于图形制作的工具。自2010年，更多的开发精力被投入到了网页出版的交互式图形上。利用像Bokeh和Ployly这样的工具，可以为网页浏览器都见一个动态的，可交互式图形。\n",
    "\n",
    "对于制作用于打印或网页的静态图形，作者推荐默认使用matplotlib以及pandas和seaborn这样的工具。对于其他的数据可视化需求，去学一个有用的工具可能会有帮助。"
   ]
  },
  {
   "cell_type": "code",
   "execution_count": null,
   "metadata": {
    "collapsed": true
   },
   "outputs": [],
   "source": []
  }
 ],
 "metadata": {
  "kernelspec": {
   "display_name": "Python [py35]",
   "language": "python",
   "name": "Python [py35]"
  },
  "language_info": {
   "codemirror_mode": {
    "name": "ipython",
    "version": 3
   },
   "file_extension": ".py",
   "mimetype": "text/x-python",
   "name": "python",
   "nbconvert_exporter": "python",
   "pygments_lexer": "ipython3",
   "version": "3.5.2"
  }
 },
 "nbformat": 4,
 "nbformat_minor": 0
}
