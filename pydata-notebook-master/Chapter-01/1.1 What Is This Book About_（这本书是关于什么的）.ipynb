{
 "cells": [
  {
   "cell_type": "markdown",
   "metadata": {},
   "source": [
    "# CHAPTER 1 Preliminaries（预备知识）\n",
    "\n",
    "\n",
    "# 1.1 What Is This Book About?（这本书是关于什么的）\n",
    "\n",
    "这本书关心的是如何用Python对数据进行处理和清洗等操作。本书的目的是作为一个指南，讲解使用Python语言和它的一些处理数据的库和工具，这能让我们成为一个有效率的数据分析师（data analyst）。本书会告诉我们，使用Python语言的情况下，我们需要用那些工具来进行数据分析。\n",
    "\n",
    "## What Kinds of Data?（什么种类的数据）\n",
    "\n",
    "我们说的数据指的是结构化的数据（structured data），比如：\n",
    "\n",
    "- 表格型数据，每一列有不同的类型（字符串，数字，日期等）。这种情况是我们最常见到的，常见于用tab-或逗号分隔的文件（比如CSV文件）\n",
    "- 多维数组（Multidimensional arrays，比如矩阵）\n",
    "- 用一列作为键（比如SQL中的主键和外键），整合多个表格的数据\n",
    "- 时间序列数据\n",
    "\n",
    "大部分数据都可以被转化为结构化数据，方便进行分析和建模。如果无法转化，那么我们可以从数据集中抽取特征，做成一个结构化的形式。举个例子，新闻可以被处理为单词频率表格，然后我们可以对其进行情感分析（sentiment analysis）。\n",
    "\n",
    "表格型程序，比如微软的Excel，可能是当今最广泛的数据分析工具，所以没必要把数据分析想得很难。"
   ]
  }
 ],
 "metadata": {
  "kernelspec": {
   "display_name": "Python 3",
   "language": "python",
   "name": "python3"
  },
  "language_info": {
   "codemirror_mode": {
    "name": "ipython",
    "version": 3
   },
   "file_extension": ".py",
   "mimetype": "text/x-python",
   "name": "python",
   "nbconvert_exporter": "python",
   "pygments_lexer": "ipython3",
   "version": "3.5.2"
  }
 },
 "nbformat": 4,
 "nbformat_minor": 2
}
