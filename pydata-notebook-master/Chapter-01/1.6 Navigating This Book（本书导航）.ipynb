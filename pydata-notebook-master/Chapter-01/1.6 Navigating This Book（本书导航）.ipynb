{
 "cells": [
  {
   "cell_type": "markdown",
   "metadata": {},
   "source": [
    "# 1.6 Navigating This Book（本书导航）\n",
    "\n",
    "如果之前没有接触过Python，那么你应该在第2章和第3章多花一些时间。这两章介绍了Python语言的特性和IPython shell以及Jupyter notebooks。这些东西是本书的基本知识。如果已经有了相关经验，可以直接跳过这些章节。\n",
    "\n",
    "在第4章，会介绍一些Numpy的关键用法，高级用法的部分会放在附录A。\n",
    "\n",
    "第5章，介绍pandas。在剩余的章节，会使用pandas、numpy和matplotlib（可视化）。\n",
    "\n",
    "本书的章节尽可能以递增的形式组织，当然，有些知识是会跨章节的。\n",
    "\n",
    "通常来说，一些任务可以归为下面几类：\n",
    "\n",
    "- Interacting with the outside world （与外界交互）\n",
    "\n",
    "读取和写入各种文件格式，存储数据\n",
    "\n",
    "- Preparation（准备）\n",
    "\n",
    "数据清洗和处理，方便之后的建模或分析\n",
    "\n",
    "- Transformation（转换）\n",
    "\n",
    "\n",
    "对不同的数据进行分组，并使用一些数学或模型，来产生新的数据集（比如对一个大表格进行聚合操作）\n",
    "\n",
    "\n",
    "- Modeling and computation\n",
    "\n",
    "\n",
    "把数据喂给统计模型，机器学习算法，或其他工具\n",
    "\n",
    "- Presentation\n",
    "\n",
    "制作可交互的，或静态的图形可视化，或一些文本摘要\n",
    "\n",
    "# 1 代码范例\n",
    "\n",
    "本书的大部分代码由input和output组成，用IPython shell或Jupyter notebook呈现："
   ]
  },
  {
   "cell_type": "code",
   "execution_count": 2,
   "metadata": {
    "collapsed": false
   },
   "outputs": [],
   "source": [
    "# code example\n",
    "s = 'I love Python'"
   ]
  },
  {
   "cell_type": "code",
   "execution_count": 3,
   "metadata": {
    "collapsed": false
   },
   "outputs": [
    {
     "data": {
      "text/plain": [
       "'I love Python'"
      ]
     },
     "execution_count": 3,
     "metadata": {},
     "output_type": "execute_result"
    }
   ],
   "source": [
    "# output\n",
    "s"
   ]
  },
  {
   "cell_type": "markdown",
   "metadata": {},
   "source": [
    "可以看到上面一个cell左侧有in和out的标识。\n",
    "\n",
    "# 2 数据\n",
    "\n",
    "本书中的数据可以从GitHub上下载（可以在datasets文件夹中找到）\n",
    "\n",
    "# 3 Import Conventions（Import惯例）\n",
    "\n",
    "    import numpy as np \n",
    "    import matplotlib.pyplot as plt \n",
    "    import pandas as pd \n",
    "    import seaborn as sns \n",
    "    import statsmodels as sm\n",
    "    \n",
    "# 4 Jargon（行话）\n",
    "\n",
    "*Munge/munging/wrangling*\n",
    "\n",
    "这个是用来描述把不结构化或乱七八糟的数据，变为结构化，干净形式的过程。\n",
    "\n",
    "> 这个过程我基本使用数据清洗，数据处理来指代。\n",
    "\n",
    "*Pseudocode（伪代码）*\n",
    "\n",
    "- wiki：[伪代码](https://www.wikiwand.com/zh-hans/%E4%BC%AA%E4%BB%A3%E7%A0%81)\n",
    "- baidu：[伪代码](https://www.wikiwand.com/zh-hans/%E4%BC%AA%E4%BB%A3%E7%A0%81)\n",
    "\n",
    "*Syntactic sugar(语法糖)*\n",
    "\n",
    "在不添加新特征的前提下，让代码更方便易用的编程语法。\n",
    "\n",
    "- wiki：[语法糖](https://www.wikiwand.com/zh-hans/%E8%AF%AD%E6%B3%95%E7%B3%96)\n",
    "- baidu：[语法糖](https://baike.baidu.com/item/%E8%AF%AD%E6%B3%95%E7%B3%96)"
   ]
  }
 ],
 "metadata": {
  "anaconda-cloud": {},
  "kernelspec": {
   "display_name": "Python 3",
   "language": "python",
   "name": "python3"
  },
  "language_info": {
   "codemirror_mode": {
    "name": "ipython",
    "version": 3
   },
   "file_extension": ".py",
   "mimetype": "text/x-python",
   "name": "python",
   "nbconvert_exporter": "python",
   "pygments_lexer": "ipython3",
   "version": "3.6.3"
  }
 },
 "nbformat": 4,
 "nbformat_minor": 2
}
