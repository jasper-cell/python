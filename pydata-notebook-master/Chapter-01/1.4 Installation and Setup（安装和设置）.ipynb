{
 "cells": [
  {
   "cell_type": "markdown",
   "metadata": {},
   "source": [
    "# 1.4 Installation and Setup（安装和设置）\n",
    "\n",
    "这里我们用Anaconda发行版作为Python的使用环境，推荐安装Python3.6，本书就是用Python3.6代码写成的。（译者：我使用的也是Anaconda，Python版本是3.5，与3.6没有任何使用上的差别）\n",
    "\n",
    "译者：针对不同的操作系统，选择相应的下载方式。本书中关于安装过程的描述还是比较简单的，推荐大家直接看下面我给出的几篇文章。\n",
    "\n",
    "- [Anaconda使用总结](http://www.jianshu.com/p/2f3be7781451)\n",
    "- [Windows下Anaconda的安装和简单使用](http://blog.csdn.net/DQ_DM/article/details/47065323)\n",
    "- [初学Python者自学anaconda的正确姿势是什么](https://www.zhihu.com/question/58033789)\n",
    "\n",
    "# 1 Installing or Updating Python Packages（下载和更新Python库）\n",
    "\n",
    "可以使用conda和pip两种工具进行库的下载和更新：\n",
    "\n",
    "    conda install package_name\n",
    "    \n",
    "但有时候一些库不在Anaconda的服务器上，上面的命令会失败。这个时候我们可以使用pip（pip是一个python的包管理工具）：\n",
    "\n",
    "    pip install package_name\n",
    "   \n",
    "conda更新：\n",
    "\n",
    "    conda update package_name\n",
    "\n",
    "pip更新：\n",
    "\n",
    "    pip install --upgrade package_name\n",
    "    \n",
    "这两个下载方式都可以用，不会冲突的。不过不要使用pip来更新用conda下载的包，这会导致库之间的依赖出现问题。所以在使用Anaconda的时候，最好先尝试使用conda来更新，不行的话再使用pip。\n",
    "\n",
    "# 2 Python 2 and Python 3\n",
    "\n",
    "本书使用的是Python3，Python2将会在2020年停止维护，所以整个社群转向Python3已经是大趋势了。\n",
    "\n",
    "译者：而且Python3不用担心编码问题，对于中文使用环境的我们来说，非常友好。\n",
    "\n",
    "# 3 Integrated Development Environments (IDEs) and Text Editors（集成开发环境和文本编辑器）\n",
    "\n",
    "作者的开发环境是IPython+一个文本编辑器。作者通常写一段小代码，然后在IPython或Jupyter notebook中进行测试和debug。对于数据处理来说，在Jupyter中使用pandas和Numpy这样的库也是非常方便的。\n",
    "\n",
    "不过涉及到软件开发，就需要一些功能比较强大的集成开发环境（IDE），其功能会比文本编辑器（vim和emacs）强大很多。这里推荐一下IDE：\n",
    "\n",
    "- PyDev (free), Eclipse平台中免费的IDE\n",
    "\n",
    "- PyCharm from JetBrains (subscription-based for commercial users, free for open source developers)\n",
    "\n",
    "- Python Tools for Visual Studio (for Windows users)\n",
    "\n",
    "- Spyder (free), an IDE currently shipped with Anaconda\n",
    "\n",
    "- Komodo IDE (commercial)\n",
    "\n",
    "> 译者：我通常使用Jupyter + Atom的组合，在Jupyter中验证一小段程序，进行各种试错和验证，然后把写好的复制到Atom中。涉及到软件开发的话，我推荐PyCharm，非常易用且强大的IDE，教育版是免费的。这三样工具就能涵盖大部分的需求。"
   ]
  }
 ],
 "metadata": {
  "anaconda-cloud": {},
  "kernelspec": {
   "display_name": "Python 3",
   "language": "python",
   "name": "python3"
  },
  "language_info": {
   "codemirror_mode": {
    "name": "ipython",
    "version": 3
   },
   "file_extension": ".py",
   "mimetype": "text/x-python",
   "name": "python",
   "nbconvert_exporter": "python",
   "pygments_lexer": "ipython3",
   "version": "3.6.3"
  }
 },
 "nbformat": 4,
 "nbformat_minor": 2
}
