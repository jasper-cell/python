{
 "cells": [
  {
   "cell_type": "markdown",
   "metadata": {},
   "source": [
    "# 1.5 Community and Conferences（社区和讨论组）+ 私货\n",
    "\n",
    "下面是一些和科学计算，数据处理相关的Python社群和讨论组，如果有什么问题可以进行提问：\n",
    "\n",
    "- pydata: A Google Group list for questions related to Python for data analysis and pandas\n",
    "\n",
    "- pystatsmodels: For statsmodels or pandas-related questions\n",
    "\n",
    "- Mailing list for scikit-learn (scikit-learn@python.org) and machine learning in Python, generally\n",
    "\n",
    "- numpy-discussion: For NumPy-related questions\n",
    "\n",
    "- scipy-user: For general SciPy or scientific Python questions\n",
    "\n",
    "译者：其实上面这些对于我们中国学生来说基本用不到，我就介绍些干货（私货）吧。平时进行问题搜索的时候，推荐使用google，好处有以下几点：\n",
    "\n",
    "- 搜索出来的结果质量很高，这会帮你省很多时间，差的搜索引擎只会让我们在找东西上浪费大量时间。\n",
    "- 质量高的搜索结果，会让你看到更优质的内容，更优质的内容能让你学到更有效的知识，成为更优秀的coder，这种改变是潜移默化的，时间越长体会越深。\n",
    "- 多语言环境下google的表现非常棒。我平时使用的是英语，中文，日语。英语自不用说，google在中文和日语环境下的搜索表现非常令我满意。有时候中文环境下找不到结果的时候我会尝试用baidu搜一下。\n",
    "\n",
    "可能一开始使用google的时候你会不习惯（我花了两个月），可一旦习惯了，相信你会爱上这种高质量的反馈。下面我再说一些小贴士：\n",
    "\n",
    "- 如果一个编程问题用中文搜不到结果，就尝试用英文搜索。这也是为什么推荐使用google的原因，因为如果用英文搜索的话，大部分编程问题可能都已经被人问过了。最常用的提问网站是Stack Overflow。如果遇到了别人都没有遇到的问题，就尝试用英语在这个网站上提问吧。有时候我会英语，中文，日语三种语言换着搜索同一个问题，如果你也会多种语言的话，请有效利用起来。\n",
    "- 学会git，利用好github。github上有很多优秀的项目，可以看优秀的programmer是怎么写代码的，希望有朝一日你也能为开源世界作出自己的贡献。\n",
    "- 能科学上网的话，好好利用Youtube这个平台。别整天看什么脱口秀、vlog、乱七八糟的东西（好像暴露了什么），这个平台上有很多优秀的教学视频，对于初学者来说非常有用。举个例子吧，我在接触很多新东西的时候，看别人文章还是搞不懂要怎么做。这个时候在google上搜索 XXX+tutorial+youtube，就能看到很多手把手教学视频，很适合新人入坑。"
   ]
  }
 ],
 "metadata": {
  "anaconda-cloud": {},
  "kernelspec": {
   "display_name": "Python 3",
   "language": "python",
   "name": "python3"
  },
  "language_info": {
   "codemirror_mode": {
    "name": "ipython",
    "version": 3
   },
   "file_extension": ".py",
   "mimetype": "text/x-python",
   "name": "python",
   "nbconvert_exporter": "python",
   "pygments_lexer": "ipython3",
   "version": "3.6.3"
  }
 },
 "nbformat": 4,
 "nbformat_minor": 2
}
