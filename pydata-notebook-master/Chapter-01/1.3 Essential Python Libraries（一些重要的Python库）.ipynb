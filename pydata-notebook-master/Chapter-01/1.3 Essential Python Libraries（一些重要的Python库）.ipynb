{
 "cells": [
  {
   "cell_type": "markdown",
   "metadata": {},
   "source": [
    "# 1.3 Essential Python Libraries（一些重要的Python库）\n",
    "\n",
    "如果不了解Python的数据生态，以及本书中即将用到的一些库，这里会做一个简单的介绍：\n",
    "\n",
    "# Numpy\n",
    "\n",
    "> 这里就不过多介绍了，下面给出一些链接可以参考。这个库太重要了，Python之所以能在科学计算上独领风骚很大程度上就是因为这个库。它还影响了另一个很有名的深度学习库，PyTorch。\n",
    "\n",
    "- Wiki：[NumPy](https://www.wikiwand.com/zh-hans/NumPy)\n",
    "- Baidu：[NumPy](https://baike.baidu.com/item/numpy/5678437)\n",
    "- [使用 Python 进行科学计算：NumPy入门](http://codingpy.com/article/an-introduction-to-numpy/)\n",
    "- [NumPy用户指南](http://usyiyi.cn/translate/NumPy_v111/user/index.html)\n",
    "\n",
    "详情可见第4章。\n",
    "\n",
    "# pandas\n",
    "\n",
    "本书的主角，用于进行数据处理和清洗的利器。详情可见第5章。\n",
    "\n",
    "# matplotlib\n",
    "\n",
    "用于绘图和数据可视化，详情可见第9章。\n",
    "\n",
    "# IPython and Jupyter\n",
    "\n",
    "本书的笔记就是使用Jupyter来制作的，详细内容可以查看下面的资料。\n",
    "\n",
    "- [IPython 与 Jupyter 相关概念介绍](https://blog.windrunner.me/python/jupyter.html)\n",
    "- [IPython和Jupyter Notebook](http://www.jianshu.com/p/9c4d3a7f3ca9)\n",
    "- [Jupyter官网](http://jupyter.org/)\n",
    "- [Jupyter Notebook Tutorial: Introduction, Setup, and Walkthrough(视频，需要翻墙)](https://www.youtube.com/watch?v=HW29067qVWk)\n",
    "\n",
    "# SciPy\n",
    "\n",
    "- Wiki：[SciPy](https://www.wikiwand.com/zh-hans/SciPy)\n",
    "- [SciPy模块介绍](http://blog.csdn.net/nkwangjie/article/details/17503941)\n",
    "\n",
    "# scikit-learn\n",
    "\n",
    "集成了很多机器学习模型，如果搞机器学习的话这个包一定要好好学。虽然13.4做了介绍，但我觉得还是不够，想要深入的话推荐大家再去多看资料和书籍进行学习。\n",
    "\n",
    "# statsmodels\n",
    "\n",
    "- [【量化课堂】Statsmodels 统计包之 OLS 回归](https://www.joinquant.com/post/1786?f=study&m=python)\n",
    "- [Welcome to Statsmodels’s Documentation](http://www.statsmodels.org/stable/index.html)\n",
    "\n"
   ]
  },
  {
   "cell_type": "code",
   "execution_count": null,
   "metadata": {},
   "outputs": [],
   "source": []
  }
 ],
 "metadata": {
  "kernelspec": {
   "display_name": "Python 3",
   "language": "python",
   "name": "python3"
  },
  "language_info": {
   "codemirror_mode": {
    "name": "ipython",
    "version": 3
   },
   "file_extension": ".py",
   "mimetype": "text/x-python",
   "name": "python",
   "nbconvert_exporter": "python",
   "pygments_lexer": "ipython3",
   "version": "3.6.3"
  }
 },
 "nbformat": 4,
 "nbformat_minor": 2
}
