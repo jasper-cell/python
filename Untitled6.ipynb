{
 "cells": [
  {
   "cell_type": "code",
   "execution_count": 1,
   "metadata": {},
   "outputs": [],
   "source": [
    "class SearchEngineBase:\n",
    "    def __init__(self):\n",
    "        pass\n",
    "    #搜索器\n",
    "    def add_corpus(self,file_path):\n",
    "        with open(file_path,'rb') as fin :\n",
    "            text = fin.read().decode('gb2312','ignore')\n",
    "        self.process_corpus(file_path,text)\n",
    "    #索引器\n",
    "    def process_corpus(self,id,text):\n",
    "        raise Exception('process_corpus not implemented')\n",
    "    #检索器\n",
    "    def search(self,query):\n",
    "        raise Exception('search not implemented')\n",
    "#用户接口\n",
    "def main(search_engine):\n",
    "    for file_path in ['1.txt','2.txt','3.txt','4.txt','5.txt']:\n",
    "        search_engine.add_corpus(file_path)\n",
    "    while True:\n",
    "        query = input()\n",
    "        results = search_engine.search(query)\n",
    "        print('found {} result(s):',format(len(results)))\n",
    "        for result in results:\n",
    "            print(result)    "
   ]
  },
  {
   "cell_type": "code",
   "execution_count": null,
   "metadata": {},
   "outputs": [
    {
     "name": "stdout",
     "output_type": "stream",
     "text": [
      "C\n",
      "found {} result(s): 2\n",
      "3.txt\n",
      "4.txt\n",
      "C语言\n",
      "found {} result(s): 2\n",
      "3.txt\n",
      "4.txt\n",
      "2012年初\n",
      "found {} result(s): 1\n",
      "4.txt\n"
     ]
    }
   ],
   "source": [
    "#继承SearchEngineBase类，并重写了process——corpus和search方法\n",
    "class SimpleEngine(SearchEngineBase):\n",
    "    def __init__(self):\n",
    "        super(SimpleEngine,self).__init__()\n",
    "        #建立索引时使用\n",
    "        self.__id_to_texts = {}\n",
    "        \n",
    "    def process_corpus(self,id,text):\n",
    "        #以文件路径为键，文件内容为值，形成键值对，存储在字典中，由此建立索引\n",
    "        self.__id_to_texts[id] = text\n",
    "    \n",
    "    def search(self,query):\n",
    "        results = []\n",
    "        #依次检索字典中的键值对，如果文件内容中包含用户搜索的信息，则将此文件的文件路径存贮在results列表中\n",
    "        for id,text in self.__id_to_texts.items():\n",
    "            if query in text:\n",
    "                results.append(id)\n",
    "        return results\n",
    "search_engine = SimpleEngine()\n",
    "main(search_engine)"
   ]
  },
  {
   "cell_type": "code",
   "execution_count": null,
   "metadata": {},
   "outputs": [],
   "source": []
  }
 ],
 "metadata": {
  "kernelspec": {
   "display_name": "Python 3",
   "language": "python",
   "name": "python3"
  },
  "language_info": {
   "codemirror_mode": {
    "name": "ipython",
    "version": 3
   },
   "file_extension": ".py",
   "mimetype": "text/x-python",
   "name": "python",
   "nbconvert_exporter": "python",
   "pygments_lexer": "ipython3",
   "version": "3.7.0"
  }
 },
 "nbformat": 4,
 "nbformat_minor": 2
}
