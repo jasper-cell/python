{
 "cells": [
  {
   "cell_type": "markdown",
   "metadata": {},
   "source": [
    "# 狄克斯特拉算法"
   ]
  },
  {
   "cell_type": "code",
   "execution_count": 11,
   "metadata": {},
   "outputs": [],
   "source": [
    "graph = {}\n",
    "graph ['start'] = {}\n",
    "graph['start']['a'] = 6\n",
    "graph['start']['b'] = 2"
   ]
  },
  {
   "cell_type": "code",
   "execution_count": 12,
   "metadata": {},
   "outputs": [],
   "source": [
    "graph['a'] = {}\n",
    "graph['a']['fin'] = 1"
   ]
  },
  {
   "cell_type": "code",
   "execution_count": 13,
   "metadata": {},
   "outputs": [],
   "source": [
    "graph['b'] = {}\n",
    "graph['b']['a'] = 3\n",
    "graph['b']['fin'] = 5"
   ]
  },
  {
   "cell_type": "code",
   "execution_count": 14,
   "metadata": {},
   "outputs": [],
   "source": [
    "graph['fin'] = {}"
   ]
  },
  {
   "cell_type": "code",
   "execution_count": 15,
   "metadata": {},
   "outputs": [
    {
     "name": "stdout",
     "output_type": "stream",
     "text": [
      "{'start': {'a': 6, 'b': 2}, 'a': {'fin': 1}, 'b': {'a': 3, 'fin': 5}, 'fin': {}}\n"
     ]
    }
   ],
   "source": [
    "print(graph)"
   ]
  },
  {
   "cell_type": "code",
   "execution_count": 17,
   "metadata": {},
   "outputs": [],
   "source": [
    "#创建开销表\n",
    "infinity = float('inf')\n",
    "costs = {}\n",
    "costs['a'] = 6\n",
    "costs['b'] = 2\n",
    "costs['fin'] = infinity"
   ]
  },
  {
   "cell_type": "code",
   "execution_count": 18,
   "metadata": {},
   "outputs": [],
   "source": [
    "#存储父节点\n",
    "parents = {}\n",
    "parents['a'] = 'start'\n",
    "parents['b'] = 'start'\n",
    "parents['fin'] = None"
   ]
  },
  {
   "cell_type": "code",
   "execution_count": 19,
   "metadata": {},
   "outputs": [],
   "source": [
    "#创建一个数组用于记录处理过的节点\n",
    "processed = []"
   ]
  },
  {
   "cell_type": "code",
   "execution_count": 21,
   "metadata": {},
   "outputs": [],
   "source": [
    "def find_lowest_cost_node(costs):\n",
    "    lowest_cost = float('inf')\n",
    "    lowest_cost_node = None\n",
    "    for node in costs:\n",
    "        cost = costs[node]\n",
    "        if cost < lowest_cost and node not in processed:\n",
    "            lowest_cost = cost\n",
    "            lowest_cost_node = node\n",
    "    return lowest_cost_node"
   ]
  },
  {
   "cell_type": "code",
   "execution_count": 22,
   "metadata": {},
   "outputs": [],
   "source": [
    "node = find_lowest_cost_node(costs)\n",
    "while node is not None:\n",
    "    cost = costs[node]\n",
    "    neighbors = graph[node]\n",
    "    for n in neighbors.keys():\n",
    "        new_cost = cost + neighbors[n]\n",
    "        if costs[n] > new_cost:\n",
    "            costs[n] = new_cost\n",
    "            parents[n] = node\n",
    "    processed.append(node)\n",
    "    node = find_lowest_cost_node(costs)"
   ]
  },
  {
   "cell_type": "code",
   "execution_count": 25,
   "metadata": {},
   "outputs": [
    {
     "name": "stdout",
     "output_type": "stream",
     "text": [
      "{'a': 5, 'b': 2, 'fin': 6}\n"
     ]
    }
   ],
   "source": [
    "print(costs)"
   ]
  }
 ],
 "metadata": {
  "kernelspec": {
   "display_name": "Python 3",
   "language": "python",
   "name": "python3"
  },
  "language_info": {
   "codemirror_mode": {
    "name": "ipython",
    "version": 3
   },
   "file_extension": ".py",
   "mimetype": "text/x-python",
   "name": "python",
   "nbconvert_exporter": "python",
   "pygments_lexer": "ipython3",
   "version": "3.7.0"
  }
 },
 "nbformat": 4,
 "nbformat_minor": 2
}
